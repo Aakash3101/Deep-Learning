{
  "nbformat": 4,
  "nbformat_minor": 0,
  "metadata": {
    "colab": {
      "name": "trajectory-highway-planning.ipynb",
      "provenance": [],
      "collapsed_sections": [],
      "include_colab_link": true
    },
    "kernelspec": {
      "display_name": "Python 3",
      "language": "python",
      "name": "python3"
    },
    "pycharm": {
      "stem_cell": {
        "cell_type": "raw",
        "metadata": {
          "collapsed": false
        },
        "source": []
      }
    },
    "widgets": {
      "application/vnd.jupyter.widget-state+json": {
        "8726b15c22594cb09f1bc418be70ce32": {
          "model_module": "@jupyter-widgets/controls",
          "model_name": "HBoxModel",
          "model_module_version": "1.5.0",
          "state": {
            "_view_name": "HBoxView",
            "_dom_classes": [],
            "_model_name": "HBoxModel",
            "_view_module": "@jupyter-widgets/controls",
            "_model_module_version": "1.5.0",
            "_view_count": null,
            "_view_module_version": "1.5.0",
            "box_style": "",
            "layout": "IPY_MODEL_8ed74db66dba4cff86671c3dfd113153",
            "_model_module": "@jupyter-widgets/controls",
            "children": [
              "IPY_MODEL_b3d14ed7668b4e17a29cab39add587cd",
              "IPY_MODEL_ee76f137ac434144af49de7b9d3367ec"
            ]
          }
        },
        "8ed74db66dba4cff86671c3dfd113153": {
          "model_module": "@jupyter-widgets/base",
          "model_name": "LayoutModel",
          "model_module_version": "1.2.0",
          "state": {
            "_view_name": "LayoutView",
            "grid_template_rows": null,
            "right": null,
            "justify_content": null,
            "_view_module": "@jupyter-widgets/base",
            "overflow": null,
            "_model_module_version": "1.2.0",
            "_view_count": null,
            "flex_flow": null,
            "width": null,
            "min_width": null,
            "border": null,
            "align_items": null,
            "bottom": null,
            "_model_module": "@jupyter-widgets/base",
            "top": null,
            "grid_column": null,
            "overflow_y": null,
            "overflow_x": null,
            "grid_auto_flow": null,
            "grid_area": null,
            "grid_template_columns": null,
            "flex": null,
            "_model_name": "LayoutModel",
            "justify_items": null,
            "grid_row": null,
            "max_height": null,
            "align_content": null,
            "visibility": null,
            "align_self": null,
            "height": null,
            "min_height": null,
            "padding": null,
            "grid_auto_rows": null,
            "grid_gap": null,
            "max_width": null,
            "order": null,
            "_view_module_version": "1.2.0",
            "grid_template_areas": null,
            "object_position": null,
            "object_fit": null,
            "grid_auto_columns": null,
            "margin": null,
            "display": null,
            "left": null
          }
        },
        "b3d14ed7668b4e17a29cab39add587cd": {
          "model_module": "@jupyter-widgets/controls",
          "model_name": "FloatProgressModel",
          "model_module_version": "1.5.0",
          "state": {
            "_view_name": "ProgressView",
            "style": "IPY_MODEL_43609f443888437c9fa7d4055cf22c8e",
            "_dom_classes": [],
            "description": "Running...:  98%",
            "_model_name": "FloatProgressModel",
            "bar_style": "danger",
            "max": 40,
            "_view_module": "@jupyter-widgets/controls",
            "_model_module_version": "1.5.0",
            "value": 39,
            "_view_count": null,
            "_view_module_version": "1.5.0",
            "orientation": "horizontal",
            "min": 0,
            "description_tooltip": null,
            "_model_module": "@jupyter-widgets/controls",
            "layout": "IPY_MODEL_0ac36010041f4bca80825285cafe256a"
          }
        },
        "ee76f137ac434144af49de7b9d3367ec": {
          "model_module": "@jupyter-widgets/controls",
          "model_name": "HTMLModel",
          "model_module_version": "1.5.0",
          "state": {
            "_view_name": "HTMLView",
            "style": "IPY_MODEL_c74ac7e32c8243808b6f684d2cde99fd",
            "_dom_classes": [],
            "description": "",
            "_model_name": "HTMLModel",
            "placeholder": "​",
            "_view_module": "@jupyter-widgets/controls",
            "_model_module_version": "1.5.0",
            "value": " 39/40 [00:29&lt;00:00,  1.34it/s]",
            "_view_count": null,
            "_view_module_version": "1.5.0",
            "description_tooltip": null,
            "_model_module": "@jupyter-widgets/controls",
            "layout": "IPY_MODEL_55e5aa87a76942678ab971b760129148"
          }
        },
        "43609f443888437c9fa7d4055cf22c8e": {
          "model_module": "@jupyter-widgets/controls",
          "model_name": "ProgressStyleModel",
          "model_module_version": "1.5.0",
          "state": {
            "_view_name": "StyleView",
            "_model_name": "ProgressStyleModel",
            "description_width": "initial",
            "_view_module": "@jupyter-widgets/base",
            "_model_module_version": "1.5.0",
            "_view_count": null,
            "_view_module_version": "1.2.0",
            "bar_color": null,
            "_model_module": "@jupyter-widgets/controls"
          }
        },
        "0ac36010041f4bca80825285cafe256a": {
          "model_module": "@jupyter-widgets/base",
          "model_name": "LayoutModel",
          "model_module_version": "1.2.0",
          "state": {
            "_view_name": "LayoutView",
            "grid_template_rows": null,
            "right": null,
            "justify_content": null,
            "_view_module": "@jupyter-widgets/base",
            "overflow": null,
            "_model_module_version": "1.2.0",
            "_view_count": null,
            "flex_flow": null,
            "width": null,
            "min_width": null,
            "border": null,
            "align_items": null,
            "bottom": null,
            "_model_module": "@jupyter-widgets/base",
            "top": null,
            "grid_column": null,
            "overflow_y": null,
            "overflow_x": null,
            "grid_auto_flow": null,
            "grid_area": null,
            "grid_template_columns": null,
            "flex": null,
            "_model_name": "LayoutModel",
            "justify_items": null,
            "grid_row": null,
            "max_height": null,
            "align_content": null,
            "visibility": null,
            "align_self": null,
            "height": null,
            "min_height": null,
            "padding": null,
            "grid_auto_rows": null,
            "grid_gap": null,
            "max_width": null,
            "order": null,
            "_view_module_version": "1.2.0",
            "grid_template_areas": null,
            "object_position": null,
            "object_fit": null,
            "grid_auto_columns": null,
            "margin": null,
            "display": null,
            "left": null
          }
        },
        "c74ac7e32c8243808b6f684d2cde99fd": {
          "model_module": "@jupyter-widgets/controls",
          "model_name": "DescriptionStyleModel",
          "model_module_version": "1.5.0",
          "state": {
            "_view_name": "StyleView",
            "_model_name": "DescriptionStyleModel",
            "description_width": "",
            "_view_module": "@jupyter-widgets/base",
            "_model_module_version": "1.5.0",
            "_view_count": null,
            "_view_module_version": "1.2.0",
            "_model_module": "@jupyter-widgets/controls"
          }
        },
        "55e5aa87a76942678ab971b760129148": {
          "model_module": "@jupyter-widgets/base",
          "model_name": "LayoutModel",
          "model_module_version": "1.2.0",
          "state": {
            "_view_name": "LayoutView",
            "grid_template_rows": null,
            "right": null,
            "justify_content": null,
            "_view_module": "@jupyter-widgets/base",
            "overflow": null,
            "_model_module_version": "1.2.0",
            "_view_count": null,
            "flex_flow": null,
            "width": null,
            "min_width": null,
            "border": null,
            "align_items": null,
            "bottom": null,
            "_model_module": "@jupyter-widgets/base",
            "top": null,
            "grid_column": null,
            "overflow_y": null,
            "overflow_x": null,
            "grid_auto_flow": null,
            "grid_area": null,
            "grid_template_columns": null,
            "flex": null,
            "_model_name": "LayoutModel",
            "justify_items": null,
            "grid_row": null,
            "max_height": null,
            "align_content": null,
            "visibility": null,
            "align_self": null,
            "height": null,
            "min_height": null,
            "padding": null,
            "grid_auto_rows": null,
            "grid_gap": null,
            "max_width": null,
            "order": null,
            "_view_module_version": "1.2.0",
            "grid_template_areas": null,
            "object_position": null,
            "object_fit": null,
            "grid_auto_columns": null,
            "margin": null,
            "display": null,
            "left": null
          }
        }
      }
    },
    "accelerator": "GPU"
  },
  "cells": [
    {
      "cell_type": "markdown",
      "metadata": {
        "id": "view-in-github",
        "colab_type": "text"
      },
      "source": [
        "<a href=\"https://colab.research.google.com/github/Aakash3101/Deep-Learning/blob/master/trajectory_highway_planning.ipynb\" target=\"_parent\"><img src=\"https://colab.research.google.com/assets/colab-badge.svg\" alt=\"Open In Colab\"/></a>"
      ]
    },
    {
      "cell_type": "markdown",
      "metadata": {
        "id": "QKWvMXWMBEJA"
      },
      "source": [
        "# Trajectory Planning on Highway using openai gym environment  highway-v0\n",
        "# Using Value Iteration Agent (Reinforcement learning)"
      ]
    },
    {
      "cell_type": "code",
      "metadata": {
        "id": "s-ghXis6A_md"
      },
      "source": [
        "# Environment\n",
        "!pip install highway-env\n",
        "# to finite mdp\n",
        "!pip install git+https://github.com/eleurent/finite-mdp"
      ],
      "execution_count": null,
      "outputs": []
    },
    {
      "cell_type": "code",
      "metadata": {
        "id": "Psf0tWHyNTud"
      },
      "source": [
        "import gym\n",
        "import highway_env"
      ],
      "execution_count": null,
      "outputs": []
    },
    {
      "cell_type": "code",
      "metadata": {
        "id": "6Ht3EChk0DaE"
      },
      "source": [
        "import numpy as np\n",
        "\n",
        "class ValueIterationAgent:\n",
        "    def __init__(self, env, gamma, num_iterations):\n",
        "        self.finite_mdp = self.is_finite_mdp(env)\n",
        "        if self.finite_mdp:\n",
        "            self.mdp = env.mdp\n",
        "        elif not self.finite_mdp:\n",
        "            try:\n",
        "                self.mdp = env.unwrapped.to_finite_mdp()\n",
        "            except AttributeError:\n",
        "                raise TypeError(\"Environment must be of type finite_mdp, install module\")\n",
        "        \n",
        "        self.env = env\n",
        "        self.gamma = gamma\n",
        "        self.iterations = num_iterations\n",
        "\n",
        "\n",
        "    def act(self, state):\n",
        "        # If environment is not a finite mdp, it must be converted to one and the state must be recovered\n",
        "        if not self.finite_mdp:\n",
        "            self.mdp = self.env.unwrapped.to_finite_mdp()\n",
        "            state = self.mdp.state\n",
        "            self.state_action_value = self.get_state_action_value()\n",
        "        return np.argmax(self.state_action_value[state, :])\n",
        "    \n",
        "    def get_state_value(self):\n",
        "        return self.fixed_point_iterations(\n",
        "            lambda v: self.best_action_value(self.bellman_expectation(v)),\n",
        "            np.zeros((self.mdp.transition.shape[0],))\n",
        "        )\n",
        "\n",
        "    def get_state_action_value(self):\n",
        "        return self.fixed_point_iteration(\n",
        "            lambda q: self.bellman_expectation(self.best_action_value(q)),\n",
        "            np.zeros((self.mdp.transition.shape[0:2]))\n",
        "        )\n",
        "    \n",
        "    @staticmethod\n",
        "    def best_action_value(action_values):\n",
        "        return action_values.max(axis=-1)\n",
        "    \n",
        "    def bellman_expectation(self, value):\n",
        "        if self.mdp.mode == \"deterministic\":\n",
        "            next_v = value[self.mdp.transition]\n",
        "        else:\n",
        "            raise ValueError(\"Unknown mode\")\n",
        "        \n",
        "        next_v[self.mdp.terminal] = 0\n",
        "        return self.mdp.reward + self.gamma * next_v\n",
        "    \n",
        "    def fixed_point_iteration(self, operator, initial):\n",
        "        value = initial\n",
        "        for iteration in range(self.iterations):\n",
        "            next_value = operator(value)\n",
        "            if np.allclose(value, next_value):\n",
        "                break\n",
        "            value = next_value\n",
        "        return value\n",
        "\n",
        "    @staticmethod\n",
        "    def is_finite_mdp(env):\n",
        "        try:\n",
        "            finite_mdp = __import__(\"finite_mdp.envs.finite_mdp_env\")\n",
        "            if isinstance(env, finite_mdp.envs.finite_mdp_env.FiniteMDPEnv):\n",
        "                return True\n",
        "        except (ModuleNotFoundError, TypeError):\n",
        "            return False"
      ],
      "execution_count": null,
      "outputs": []
    },
    {
      "cell_type": "markdown",
      "metadata": {
        "id": "oi1SV025BXhB"
      },
      "source": [
        "## Run an episode"
      ]
    },
    {
      "cell_type": "code",
      "metadata": {
        "colab": {
          "base_uri": "https://localhost:8080/"
        },
        "id": "bgNDDWwqCj8l",
        "outputId": "2625e8b1-6a1b-47ed-a367-fbdcc648534f"
      },
      "source": [
        "# Make environment\n",
        "\n",
        "env = gym.make(\"highway-v0\")\n",
        "env.simplify()\n",
        "env.reset()"
      ],
      "execution_count": null,
      "outputs": [
        {
          "output_type": "execute_result",
          "data": {
            "text/plain": [
              "array([[ 1.        ,  1.        ,  0.75      ,  0.41666667,  0.        ],\n",
              "       [ 1.        ,  0.12975475, -0.5       , -0.04673758,  0.        ],\n",
              "       [ 1.        ,  0.26014527, -0.25      , -0.03930739,  0.        ],\n",
              "       [ 1.        ,  0.38623079, -0.5       , -0.05374465,  0.        ],\n",
              "       [ 1.        ,  0.51877321, -0.5       , -0.04357924,  0.        ]])"
            ]
          },
          "metadata": {
            "tags": []
          },
          "execution_count": 4
        }
      ]
    },
    {
      "cell_type": "code",
      "metadata": {
        "colab": {
          "base_uri": "https://localhost:8080/"
        },
        "id": "fGQetiOCpnLi",
        "outputId": "6ee1a1bc-a983-430d-ea59-ba819badff2e"
      },
      "source": [
        "import pprint\n",
        "\n",
        "pprint.pprint(env.config)"
      ],
      "execution_count": null,
      "outputs": [
        {
          "output_type": "stream",
          "text": [
            "{'action': {'type': 'DiscreteMetaAction'},\n",
            " 'centering_position': [0.3, 0.5],\n",
            " 'collision_reward': -1,\n",
            " 'controlled_vehicles': 1,\n",
            " 'duration': 40,\n",
            " 'ego_spacing': 2,\n",
            " 'initial_lane_id': None,\n",
            " 'lanes_count': 4,\n",
            " 'manual_control': False,\n",
            " 'observation': {'type': 'Kinematics'},\n",
            " 'offroad_terminal': False,\n",
            " 'offscreen_rendering': False,\n",
            " 'other_vehicles_type': 'highway_env.vehicle.behavior.IDMVehicle',\n",
            " 'policy_frequency': 1,\n",
            " 'real_time_rendering': False,\n",
            " 'render_agent': True,\n",
            " 'reward_speed_range': [20, 30],\n",
            " 'scaling': 5.5,\n",
            " 'screen_height': 150,\n",
            " 'screen_width': 600,\n",
            " 'show_trajectories': False,\n",
            " 'simulation_frequency': 15,\n",
            " 'vehicles_count': 50,\n",
            " 'vehicles_density': 1}\n"
          ],
          "name": "stdout"
        }
      ]
    },
    {
      "cell_type": "code",
      "metadata": {
        "id": "Bd_-cZrjJ0qp"
      },
      "source": [
        "# Visualisation\n",
        "import sys\n",
        "\n",
        "!git clone https://github.com/eleurent/highway-env.git\n",
        "!pip install gym pyvirtualdisplay\n",
        "!apt-get install -y xvfb python-opengl ffmpeg\n",
        "sys.path.insert(0, './highway-env/scripts/')\n"
      ],
      "execution_count": null,
      "outputs": []
    },
    {
      "cell_type": "code",
      "metadata": {
        "colab": {
          "base_uri": "https://localhost:8080/",
          "height": 473,
          "referenced_widgets": [
            "8726b15c22594cb09f1bc418be70ce32",
            "8ed74db66dba4cff86671c3dfd113153",
            "b3d14ed7668b4e17a29cab39add587cd",
            "ee76f137ac434144af49de7b9d3367ec",
            "43609f443888437c9fa7d4055cf22c8e",
            "0ac36010041f4bca80825285cafe256a",
            "c74ac7e32c8243808b6f684d2cde99fd",
            "55e5aa87a76942678ab971b760129148"
          ]
        },
        "id": "dgZWIY4mIDRU",
        "outputId": "4dca139c-b96e-41fe-a51a-38156952286c"
      },
      "source": [
        "from utils import record_videos, show_videos, capture_intermediate_frames\n",
        "from tqdm.notebook import trange\n",
        "env = record_videos(env)\n",
        "obs, done = env.reset(), False\n",
        "capture_intermediate_frames(env)\n",
        "total_reward = 0\n",
        "agent = ValueIterationAgent(env, gamma=0.9, num_iterations=100)\n",
        "\n",
        "for step in trange(env.unwrapped.config[\"duration\"], desc=\"Running...\"):\n",
        "    \n",
        "    # get agent to pick action given state s\n",
        "    action = agent.act(obs)\n",
        "    obs, reward, done, info = env.step(action)\n",
        "    total_reward += reward\n",
        "    if done:\n",
        "        break\n",
        "\n",
        "env.close()\n",
        "show_videos()"
      ],
      "execution_count": null,
      "outputs": [
        {
          "output_type": "display_data",
          "data": {
            "application/vnd.jupyter.widget-view+json": {
              "model_id": "8726b15c22594cb09f1bc418be70ce32",
              "version_minor": 0,
              "version_major": 2
            },
            "text/plain": [
              "HBox(children=(FloatProgress(value=0.0, description='Running...', max=40.0, style=ProgressStyle(description_wi…"
            ]
          },
          "metadata": {
            "tags": []
          }
        },
        {
          "output_type": "display_data",
          "data": {
            "text/html": [
              "<video alt=\"videos/openaigym.video.2.58.video000000.mp4\" autoplay\n",
              "                      loop controls style=\"height: 400px;\">\n",
              "                      <source src=\"data:video/mp4;base64,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\" type=\"video/mp4\" />\n",
              "                 </video>"
            ],
            "text/plain": [
              "<IPython.core.display.HTML object>"
            ]
          },
          "metadata": {
            "tags": []
          }
        }
      ]
    },
    {
      "cell_type": "code",
      "metadata": {
        "colab": {
          "base_uri": "https://localhost:8080/"
        },
        "id": "uZdhuEf-AJKZ",
        "outputId": "d4b77485-ffbc-41b2-f320-1e2590e0254c"
      },
      "source": [
        "total_reward"
      ],
      "execution_count": null,
      "outputs": [
        {
          "output_type": "execute_result",
          "data": {
            "text/plain": [
              "39.43918533193987"
            ]
          },
          "metadata": {
            "tags": []
          },
          "execution_count": 11
        }
      ]
    },
    {
      "cell_type": "code",
      "metadata": {
        "colab": {
          "base_uri": "https://localhost:8080/"
        },
        "id": "etcR_eURBnrR",
        "outputId": "ae0c88fe-84b7-4036-fbde-98584dce839a"
      },
      "source": [
        "info"
      ],
      "execution_count": null,
      "outputs": [
        {
          "output_type": "execute_result",
          "data": {
            "text/plain": [
              "{'action': 0, 'cost': 0.0, 'crashed': False, 'speed': 29.999999999999986}"
            ]
          },
          "metadata": {
            "tags": []
          },
          "execution_count": 12
        }
      ]
    },
    {
      "cell_type": "code",
      "metadata": {
        "colab": {
          "base_uri": "https://localhost:8080/"
        },
        "id": "L_i9VeuOBvQb",
        "outputId": "cb62ec51-2541-4f0c-a723-06ab165354a1"
      },
      "source": [
        "done"
      ],
      "execution_count": null,
      "outputs": [
        {
          "output_type": "execute_result",
          "data": {
            "text/plain": [
              "True"
            ]
          },
          "metadata": {
            "tags": []
          },
          "execution_count": 13
        }
      ]
    },
    {
      "cell_type": "code",
      "metadata": {
        "id": "Z7JsPtonBzcx",
        "colab": {
          "base_uri": "https://localhost:8080/"
        },
        "outputId": "3b9bc867-21e5-4605-d489-ebbb2ce85f99"
      },
      "source": [
        "obs"
      ],
      "execution_count": null,
      "outputs": [
        {
          "output_type": "execute_result",
          "data": {
            "text/plain": [
              "array([[ 1.        ,  1.        ,  0.55786961,  0.49775412, -0.04733744],\n",
              "       [ 1.        ,  0.12115589, -0.05786961, -0.15891989,  0.04733744],\n",
              "       [ 1.        ,  0.19754439,  0.19213039, -0.16988087,  0.04733744],\n",
              "       [ 1.        ,  0.38789826, -0.55786961, -0.13833535,  0.04733744],\n",
              "       [ 1.        ,  0.42201304, -0.30786961, -0.14652414,  0.04733744]])"
            ]
          },
          "metadata": {
            "tags": []
          },
          "execution_count": 14
        }
      ]
    },
    {
      "cell_type": "code",
      "metadata": {
        "id": "s0IHWbLwB1NE"
      },
      "source": [
        ""
      ],
      "execution_count": null,
      "outputs": []
    }
  ]
}