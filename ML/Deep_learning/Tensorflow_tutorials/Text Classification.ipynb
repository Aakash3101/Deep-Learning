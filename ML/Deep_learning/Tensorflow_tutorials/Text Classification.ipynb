{
 "cells": [
  {
   "cell_type": "code",
   "execution_count": 3,
   "metadata": {},
   "outputs": [
    {
     "name": "stdout",
     "output_type": "stream",
     "text": [
      "1.14.0\n"
     ]
    }
   ],
   "source": [
    "from __future__ import absolute_import, division, print_function, unicode_literals\n",
    "\n",
    "import tensorflow as tf\n",
    "from tensorflow import keras\n",
    "\n",
    "import numpy as np\n",
    "\n",
    "print(tf.__version__)"
   ]
  },
  {
   "cell_type": "code",
   "execution_count": 4,
   "metadata": {},
   "outputs": [],
   "source": [
    "imdb = keras.datasets.imdb\n",
    "\n",
    "(train_data, train_labels), (test_data, test_labels) = imdb.load_data(num_words=10000)"
   ]
  },
  {
   "cell_type": "code",
   "execution_count": 5,
   "metadata": {},
   "outputs": [
    {
     "name": "stdout",
     "output_type": "stream",
     "text": [
      "Training entries: 25000, labels: 25000\n"
     ]
    }
   ],
   "source": [
    "print(\"Training entries: {}, labels: {}\".format(len(train_data), len(train_labels)))"
   ]
  },
  {
   "cell_type": "code",
   "execution_count": 6,
   "metadata": {},
   "outputs": [
    {
     "name": "stdout",
     "output_type": "stream",
     "text": [
      "[1, 14, 22, 16, 43, 530, 973, 1622, 1385, 65, 458, 4468, 66, 3941, 4, 173, 36, 256, 5, 25, 100, 43, 838, 112, 50, 670, 2, 9, 35, 480, 284, 5, 150, 4, 172, 112, 167, 2, 336, 385, 39, 4, 172, 4536, 1111, 17, 546, 38, 13, 447, 4, 192, 50, 16, 6, 147, 2025, 19, 14, 22, 4, 1920, 4613, 469, 4, 22, 71, 87, 12, 16, 43, 530, 38, 76, 15, 13, 1247, 4, 22, 17, 515, 17, 12, 16, 626, 18, 2, 5, 62, 386, 12, 8, 316, 8, 106, 5, 4, 2223, 5244, 16, 480, 66, 3785, 33, 4, 130, 12, 16, 38, 619, 5, 25, 124, 51, 36, 135, 48, 25, 1415, 33, 6, 22, 12, 215, 28, 77, 52, 5, 14, 407, 16, 82, 2, 8, 4, 107, 117, 5952, 15, 256, 4, 2, 7, 3766, 5, 723, 36, 71, 43, 530, 476, 26, 400, 317, 46, 7, 4, 2, 1029, 13, 104, 88, 4, 381, 15, 297, 98, 32, 2071, 56, 26, 141, 6, 194, 7486, 18, 4, 226, 22, 21, 134, 476, 26, 480, 5, 144, 30, 5535, 18, 51, 36, 28, 224, 92, 25, 104, 4, 226, 65, 16, 38, 1334, 88, 12, 16, 283, 5, 16, 4472, 113, 103, 32, 15, 16, 5345, 19, 178, 32]\n"
     ]
    }
   ],
   "source": [
    "print(train_data[0])"
   ]
  },
  {
   "cell_type": "code",
   "execution_count": 7,
   "metadata": {},
   "outputs": [
    {
     "data": {
      "text/plain": [
       "(218, 189)"
      ]
     },
     "execution_count": 7,
     "metadata": {},
     "output_type": "execute_result"
    }
   ],
   "source": [
    "len(train_data[0]), len(train_data[1])"
   ]
  },
  {
   "cell_type": "code",
   "execution_count": 8,
   "metadata": {},
   "outputs": [],
   "source": [
    "# A dictionary mapping words to an integer index\n",
    "word_index = imdb.get_word_index()\n",
    "\n",
    "# The first indices are reserved\n",
    "word_index = {k:(v+3) for k,v in word_index.items()}\n",
    "word_index['<PAD>'] = 0\n",
    "word_index['<START>'] = 1\n",
    "word_index['<UNK>'] = 2\n",
    "word_index['<UNUSED>'] = 3\n",
    "\n",
    "reversed_word_index = dict([(value, key) for (key, value) in word_index.items()])\n",
    "\n",
    "def decode_review(text):\n",
    "    return ' '.join([reversed_word_index.get(i, '?') for i in text])"
   ]
  },
  {
   "cell_type": "code",
   "execution_count": 9,
   "metadata": {},
   "outputs": [
    {
     "data": {
      "text/plain": [
       "\"<START> this film was just brilliant casting location scenery story direction everyone's really suited the part they played and you could just imagine being there robert <UNK> is an amazing actor and now the same being director <UNK> father came from the same scottish island as myself so i loved the fact there was a real connection with this film the witty remarks throughout the film were great it was just brilliant so much that i bought the film as soon as it was released for <UNK> and would recommend it to everyone to watch and the fly fishing was amazing really cried at the end it was so sad and you know what they say if you cry at a film it must have been good and this definitely was also <UNK> to the two little boy's that played the <UNK> of norman and paul they were just brilliant children are often left out of the <UNK> list i think because the stars that play them all grown up are such a big profile for the whole film but these children are amazing and should be praised for what they have done don't you think the whole story was so lovely because it was true and was someone's life after all that was shared with us all\""
      ]
     },
     "execution_count": 9,
     "metadata": {},
     "output_type": "execute_result"
    }
   ],
   "source": [
    "decode_review(train_data[0])"
   ]
  },
  {
   "cell_type": "code",
   "execution_count": 10,
   "metadata": {},
   "outputs": [],
   "source": [
    "train_data = keras.preprocessing.sequence.pad_sequences(train_data,\n",
    "                                                        value=word_index[\"<PAD>\"],\n",
    "                                                        padding='post',\n",
    "                                                        maxlen=256)\n",
    "\n",
    "test_data = keras.preprocessing.sequence.pad_sequences(test_data,\n",
    "                                                       value=word_index[\"<PAD>\"],\n",
    "                                                       padding='post',\n",
    "                                                       maxlen=256)"
   ]
  },
  {
   "cell_type": "code",
   "execution_count": 11,
   "metadata": {},
   "outputs": [
    {
     "data": {
      "text/plain": [
       "(256, 256)"
      ]
     },
     "execution_count": 11,
     "metadata": {},
     "output_type": "execute_result"
    }
   ],
   "source": [
    "len(train_data[0]), len(train_data[1])"
   ]
  },
  {
   "cell_type": "code",
   "execution_count": 12,
   "metadata": {},
   "outputs": [
    {
     "name": "stdout",
     "output_type": "stream",
     "text": [
      "[   1   14   22   16   43  530  973 1622 1385   65  458 4468   66 3941\n",
      "    4  173   36  256    5   25  100   43  838  112   50  670    2    9\n",
      "   35  480  284    5  150    4  172  112  167    2  336  385   39    4\n",
      "  172 4536 1111   17  546   38   13  447    4  192   50   16    6  147\n",
      " 2025   19   14   22    4 1920 4613  469    4   22   71   87   12   16\n",
      "   43  530   38   76   15   13 1247    4   22   17  515   17   12   16\n",
      "  626   18    2    5   62  386   12    8  316    8  106    5    4 2223\n",
      " 5244   16  480   66 3785   33    4  130   12   16   38  619    5   25\n",
      "  124   51   36  135   48   25 1415   33    6   22   12  215   28   77\n",
      "   52    5   14  407   16   82    2    8    4  107  117 5952   15  256\n",
      "    4    2    7 3766    5  723   36   71   43  530  476   26  400  317\n",
      "   46    7    4    2 1029   13  104   88    4  381   15  297   98   32\n",
      " 2071   56   26  141    6  194 7486   18    4  226   22   21  134  476\n",
      "   26  480    5  144   30 5535   18   51   36   28  224   92   25  104\n",
      "    4  226   65   16   38 1334   88   12   16  283    5   16 4472  113\n",
      "  103   32   15   16 5345   19  178   32    0    0    0    0    0    0\n",
      "    0    0    0    0    0    0    0    0    0    0    0    0    0    0\n",
      "    0    0    0    0    0    0    0    0    0    0    0    0    0    0\n",
      "    0    0    0    0]\n"
     ]
    }
   ],
   "source": [
    "print(train_data[0])"
   ]
  },
  {
   "cell_type": "code",
   "execution_count": 13,
   "metadata": {},
   "outputs": [
    {
     "name": "stderr",
     "output_type": "stream",
     "text": [
      "WARNING: Logging before flag parsing goes to stderr.\n",
      "W0808 09:47:04.929473 140205584381760 deprecation.py:506] From /home/aakash01/.local/lib/python3.6/site-packages/tensorflow/python/keras/initializers.py:119: calling RandomUniform.__init__ (from tensorflow.python.ops.init_ops) with dtype is deprecated and will be removed in a future version.\n",
      "Instructions for updating:\n",
      "Call initializer instance with the dtype argument instead of passing it to the constructor\n",
      "W0808 09:47:05.049559 140205584381760 deprecation.py:506] From /home/aakash01/.local/lib/python3.6/site-packages/tensorflow/python/ops/init_ops.py:1251: calling VarianceScaling.__init__ (from tensorflow.python.ops.init_ops) with dtype is deprecated and will be removed in a future version.\n",
      "Instructions for updating:\n",
      "Call initializer instance with the dtype argument instead of passing it to the constructor\n"
     ]
    },
    {
     "name": "stdout",
     "output_type": "stream",
     "text": [
      "Model: \"sequential\"\n",
      "_________________________________________________________________\n",
      "Layer (type)                 Output Shape              Param #   \n",
      "=================================================================\n",
      "embedding (Embedding)        (None, None, 16)          160000    \n",
      "_________________________________________________________________\n",
      "global_average_pooling1d (Gl (None, 16)                0         \n",
      "_________________________________________________________________\n",
      "dense (Dense)                (None, 16)                272       \n",
      "_________________________________________________________________\n",
      "dense_1 (Dense)              (None, 1)                 17        \n",
      "=================================================================\n",
      "Total params: 160,289\n",
      "Trainable params: 160,289\n",
      "Non-trainable params: 0\n",
      "_________________________________________________________________\n"
     ]
    }
   ],
   "source": [
    "# input shape is the vocabulary count used for the movie reviews (10,000 words)\n",
    "vocab_size = 10000\n",
    "\n",
    "model = keras.Sequential()\n",
    "model.add(keras.layers.Embedding(vocab_size, 16))\n",
    "model.add(keras.layers.GlobalAveragePooling1D())\n",
    "model.add(keras.layers.Dense(16, activation=tf.nn.relu))\n",
    "model.add(keras.layers.Dense(1, activation=tf.nn.sigmoid))\n",
    "\n",
    "model.summary()"
   ]
  },
  {
   "cell_type": "code",
   "execution_count": 14,
   "metadata": {},
   "outputs": [
    {
     "name": "stderr",
     "output_type": "stream",
     "text": [
      "W0808 09:47:05.167971 140205584381760 deprecation.py:323] From /home/aakash01/.local/lib/python3.6/site-packages/tensorflow/python/ops/nn_impl.py:180: add_dispatch_support.<locals>.wrapper (from tensorflow.python.ops.array_ops) is deprecated and will be removed in a future version.\n",
      "Instructions for updating:\n",
      "Use tf.where in 2.0, which has the same broadcast rule as np.where\n"
     ]
    }
   ],
   "source": [
    "model.compile(optimizer='adam',\n",
    "              loss='binary_crossentropy',\n",
    "              metrics=['acc'])"
   ]
  },
  {
   "cell_type": "code",
   "execution_count": 15,
   "metadata": {},
   "outputs": [],
   "source": [
    "x_val = train_data[:10000]\n",
    "partial_x_train = train_data[10000:]\n",
    "\n",
    "y_val = train_labels[:10000]\n",
    "partial_y_train = train_labels[10000:]"
   ]
  },
  {
   "cell_type": "code",
   "execution_count": 16,
   "metadata": {},
   "outputs": [
    {
     "name": "stdout",
     "output_type": "stream",
     "text": [
      "Train on 15000 samples, validate on 10000 samples\n",
      "Epoch 1/40\n",
      "15000/15000 [==============================] - 2s 112us/sample - loss: 0.6920 - acc: 0.5728 - val_loss: 0.6904 - val_acc: 0.5978\n",
      "Epoch 2/40\n",
      "15000/15000 [==============================] - 1s 34us/sample - loss: 0.6871 - acc: 0.6835 - val_loss: 0.6835 - val_acc: 0.7178\n",
      "Epoch 3/40\n",
      "15000/15000 [==============================] - 1s 34us/sample - loss: 0.6760 - acc: 0.7409 - val_loss: 0.6692 - val_acc: 0.7517\n",
      "Epoch 4/40\n",
      "15000/15000 [==============================] - 0s 33us/sample - loss: 0.6555 - acc: 0.7509 - val_loss: 0.6451 - val_acc: 0.7591\n",
      "Epoch 5/40\n",
      "15000/15000 [==============================] - 0s 33us/sample - loss: 0.6238 - acc: 0.7848 - val_loss: 0.6115 - val_acc: 0.7813\n",
      "Epoch 6/40\n",
      "15000/15000 [==============================] - 1s 34us/sample - loss: 0.5823 - acc: 0.8063 - val_loss: 0.5711 - val_acc: 0.7963\n",
      "Epoch 7/40\n",
      "15000/15000 [==============================] - 1s 34us/sample - loss: 0.5351 - acc: 0.8213 - val_loss: 0.5264 - val_acc: 0.8169\n",
      "Epoch 8/40\n",
      "15000/15000 [==============================] - 0s 33us/sample - loss: 0.4871 - acc: 0.8415 - val_loss: 0.4846 - val_acc: 0.8293\n",
      "Epoch 9/40\n",
      "15000/15000 [==============================] - 0s 32us/sample - loss: 0.4420 - acc: 0.8571 - val_loss: 0.4465 - val_acc: 0.8418\n",
      "Epoch 10/40\n",
      "15000/15000 [==============================] - 0s 31us/sample - loss: 0.4020 - acc: 0.8709 - val_loss: 0.4150 - val_acc: 0.8500\n",
      "Epoch 11/40\n",
      "15000/15000 [==============================] - 0s 32us/sample - loss: 0.3682 - acc: 0.8789 - val_loss: 0.3889 - val_acc: 0.8579\n",
      "Epoch 12/40\n",
      "15000/15000 [==============================] - 0s 33us/sample - loss: 0.3399 - acc: 0.8877 - val_loss: 0.3692 - val_acc: 0.8610\n",
      "Epoch 13/40\n",
      "15000/15000 [==============================] - 0s 32us/sample - loss: 0.3168 - acc: 0.8945 - val_loss: 0.3517 - val_acc: 0.8675\n",
      "Epoch 14/40\n",
      "15000/15000 [==============================] - 0s 32us/sample - loss: 0.2961 - acc: 0.8991 - val_loss: 0.3390 - val_acc: 0.8717\n",
      "Epoch 15/40\n",
      "15000/15000 [==============================] - 0s 33us/sample - loss: 0.2789 - acc: 0.9042 - val_loss: 0.3283 - val_acc: 0.8739\n",
      "Epoch 16/40\n",
      "15000/15000 [==============================] - 1s 33us/sample - loss: 0.2635 - acc: 0.9092 - val_loss: 0.3197 - val_acc: 0.8750\n",
      "Epoch 17/40\n",
      "15000/15000 [==============================] - 1s 34us/sample - loss: 0.2493 - acc: 0.9137 - val_loss: 0.3124 - val_acc: 0.8773\n",
      "Epoch 18/40\n",
      "15000/15000 [==============================] - 1s 34us/sample - loss: 0.2367 - acc: 0.9188 - val_loss: 0.3061 - val_acc: 0.8796\n",
      "Epoch 19/40\n",
      "15000/15000 [==============================] - 0s 33us/sample - loss: 0.2254 - acc: 0.9217 - val_loss: 0.3010 - val_acc: 0.8816\n",
      "Epoch 20/40\n",
      "15000/15000 [==============================] - 1s 33us/sample - loss: 0.2153 - acc: 0.9253 - val_loss: 0.2974 - val_acc: 0.8818\n",
      "Epoch 21/40\n",
      "15000/15000 [==============================] - 1s 33us/sample - loss: 0.2049 - acc: 0.9301 - val_loss: 0.2944 - val_acc: 0.8818\n",
      "Epoch 22/40\n",
      "15000/15000 [==============================] - 0s 32us/sample - loss: 0.1963 - acc: 0.9327 - val_loss: 0.2915 - val_acc: 0.8841\n",
      "Epoch 23/40\n",
      "15000/15000 [==============================] - 0s 32us/sample - loss: 0.1875 - acc: 0.9373 - val_loss: 0.2904 - val_acc: 0.8836\n",
      "Epoch 24/40\n",
      "15000/15000 [==============================] - 1s 35us/sample - loss: 0.1799 - acc: 0.9411 - val_loss: 0.2887 - val_acc: 0.8849\n",
      "Epoch 25/40\n",
      "15000/15000 [==============================] - 1s 34us/sample - loss: 0.1722 - acc: 0.9445 - val_loss: 0.2869 - val_acc: 0.8847\n",
      "Epoch 26/40\n",
      "15000/15000 [==============================] - 1s 33us/sample - loss: 0.1653 - acc: 0.9473 - val_loss: 0.2875 - val_acc: 0.8835\n",
      "Epoch 27/40\n",
      "15000/15000 [==============================] - 0s 32us/sample - loss: 0.1587 - acc: 0.9496 - val_loss: 0.2867 - val_acc: 0.8846\n",
      "Epoch 28/40\n",
      "15000/15000 [==============================] - 0s 33us/sample - loss: 0.1524 - acc: 0.9525 - val_loss: 0.2872 - val_acc: 0.8853\n",
      "Epoch 29/40\n",
      "15000/15000 [==============================] - 0s 33us/sample - loss: 0.1469 - acc: 0.9559 - val_loss: 0.2885 - val_acc: 0.8832\n",
      "Epoch 30/40\n",
      "15000/15000 [==============================] - 0s 31us/sample - loss: 0.1412 - acc: 0.9567 - val_loss: 0.2878 - val_acc: 0.8861\n",
      "Epoch 31/40\n",
      "15000/15000 [==============================] - 0s 32us/sample - loss: 0.1353 - acc: 0.9597 - val_loss: 0.2887 - val_acc: 0.8868\n",
      "Epoch 32/40\n",
      "15000/15000 [==============================] - 0s 33us/sample - loss: 0.1301 - acc: 0.9617 - val_loss: 0.2900 - val_acc: 0.8863\n",
      "Epoch 33/40\n",
      "15000/15000 [==============================] - 1s 34us/sample - loss: 0.1250 - acc: 0.9635 - val_loss: 0.2922 - val_acc: 0.8863\n",
      "Epoch 34/40\n",
      "15000/15000 [==============================] - 0s 33us/sample - loss: 0.1204 - acc: 0.9657 - val_loss: 0.2942 - val_acc: 0.8855\n",
      "Epoch 35/40\n",
      "15000/15000 [==============================] - 0s 32us/sample - loss: 0.1163 - acc: 0.9659 - val_loss: 0.2964 - val_acc: 0.8863\n",
      "Epoch 36/40\n",
      "15000/15000 [==============================] - 0s 31us/sample - loss: 0.1117 - acc: 0.9687 - val_loss: 0.2981 - val_acc: 0.8851\n",
      "Epoch 37/40\n",
      "15000/15000 [==============================] - 0s 32us/sample - loss: 0.1073 - acc: 0.9701 - val_loss: 0.3006 - val_acc: 0.8847\n",
      "Epoch 38/40\n",
      "15000/15000 [==============================] - 0s 33us/sample - loss: 0.1033 - acc: 0.9714 - val_loss: 0.3041 - val_acc: 0.8834\n",
      "Epoch 39/40\n",
      "15000/15000 [==============================] - 0s 33us/sample - loss: 0.1001 - acc: 0.9723 - val_loss: 0.3076 - val_acc: 0.8827\n",
      "Epoch 40/40\n",
      "15000/15000 [==============================] - 1s 34us/sample - loss: 0.0959 - acc: 0.9745 - val_loss: 0.3101 - val_acc: 0.8833\n"
     ]
    }
   ],
   "source": [
    "history = model.fit(partial_x_train,\n",
    "                    partial_y_train,\n",
    "                    epochs=40,\n",
    "                    batch_size=512,\n",
    "                    validation_data=(x_val, y_val),\n",
    "                    verbose=1)"
   ]
  },
  {
   "cell_type": "code",
   "execution_count": 17,
   "metadata": {},
   "outputs": [
    {
     "name": "stdout",
     "output_type": "stream",
     "text": [
      "25000/25000 [==============================] - 0s 13us/sample - loss: 0.3306 - acc: 0.8716\n",
      "[0.33056073163986205, 0.87164]\n"
     ]
    }
   ],
   "source": [
    "results = model.evaluate(test_data, test_labels)\n",
    "print(results)"
   ]
  },
  {
   "cell_type": "code",
   "execution_count": 18,
   "metadata": {},
   "outputs": [
    {
     "data": {
      "text/plain": [
       "dict_keys(['loss', 'acc', 'val_loss', 'val_acc'])"
      ]
     },
     "execution_count": 18,
     "metadata": {},
     "output_type": "execute_result"
    }
   ],
   "source": [
    "history_dict = history.history\n",
    "history_dict.keys()"
   ]
  },
  {
   "cell_type": "code",
   "execution_count": 19,
   "metadata": {},
   "outputs": [
    {
     "data": {
      "image/png": "[encoded data removed]",
      "text/plain": [
       "<matplotlib.figure.Figure at 0x7f836acb69e8>"
      ]
     },
     "metadata": {},
     "output_type": "display_data"
    }
   ],
   "source": [
    "import matplotlib.pyplot as plt\n",
    "\n",
    "acc = history_dict['acc']\n",
    "val_acc = history_dict['val_acc']\n",
    "loss = history_dict['loss']\n",
    "val_loss = history_dict['val_loss']\n",
    "\n",
    "epochs = range(1, len(acc) + 1)\n",
    "\n",
    "# \"bo\" is \"blue dot\"\n",
    "plt.plot(epochs, loss, 'bo', label='Training loss')\n",
    "# b is for 'solid blue line'\n",
    "plt.plot(epochs, val_loss, 'b', label='Validation loss')\n",
    "plt.title('Training and validation loss')\n",
    "plt.xlabel('Epochs')\n",
    "plt.ylabel('Loss')\n",
    "plt.legend()\n",
    "\n",
    "plt.show()"
   ]
  },
  {
   "cell_type": "code",
   "execution_count": 20,
   "metadata": {},
   "outputs": [
    {
     "data": {
      "image/png": "[encoded data removed]",
      "text/plain": [
       "<matplotlib.figure.Figure at 0x7f83678fdf28>"
      ]
     },
     "metadata": {},
     "output_type": "display_data"
    }
   ],
   "source": [
    "plt.clf() # clear figure\n",
    "\n",
    "plt.plot(epochs, acc, 'bo', label='Training acc')\n",
    "plt.plot(epochs, val_acc, 'b', label=\"Validation acc\")\n",
    "plt.title('Training and validation accuracy')\n",
    "plt.xlabel('Epochs')\n",
    "plt.ylabel('Accuracy')\n",
    "plt.legend()\n",
    "\n",
    "plt.show()"
   ]
  },
  {
   "cell_type": "code",
   "execution_count": null,
   "metadata": {},
   "outputs": [],
   "source": []
  }
 ],
 "metadata": {
  "kernelspec": {
   "display_name": "Python 3",
   "language": "python",
   "name": "python3"
  },
  "language_info": {
   "codemirror_mode": {
    "name": "ipython",
    "version": 3
   },
   "file_extension": ".py",
   "mimetype": "text/x-python",
   "name": "python",
   "nbconvert_exporter": "python",
   "pygments_lexer": "ipython3",
   "version": "3.8.5"
  }
 },
 "nbformat": 4,
 "nbformat_minor": 2
}
