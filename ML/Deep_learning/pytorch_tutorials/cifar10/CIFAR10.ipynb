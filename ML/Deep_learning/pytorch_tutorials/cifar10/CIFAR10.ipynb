{
  "nbformat": 4,
  "nbformat_minor": 0,
  "metadata": {
    "kernelspec": {
      "display_name": "Python 3",
      "language": "python",
      "name": "python3"
    },
    "language_info": {
      "codemirror_mode": {
        "name": "ipython",
        "version": 3
      },
      "file_extension": ".py",
      "mimetype": "text/x-python",
      "name": "python",
      "nbconvert_exporter": "python",
      "pygments_lexer": "ipython3",
      "version": "3.7.7"
    },
    "colab": {
      "name": "CIFAR10.ipynb",
      "provenance": [],
      "include_colab_link": true
    },
    "accelerator": "GPU"
  },
  "cells": [
    {
      "cell_type": "markdown",
      "metadata": {
        "id": "view-in-github",
        "colab_type": "text"
      },
      "source": [
        "<a href=\"https://colab.research.google.com/github/Aakash3101/Deep-Learning/blob/master/ML/Deep_learning/pytorch_tutorials/cifar10/CIFAR10.ipynb\" target=\"_parent\"><img src=\"https://colab.research.google.com/assets/colab-badge.svg\" alt=\"Open In Colab\"/></a>"
      ]
    },
    {
      "cell_type": "code",
      "metadata": {
        "id": "SrxFB1KQpETi"
      },
      "source": [
        ""
      ],
      "execution_count": null,
      "outputs": []
    },
    {
      "cell_type": "markdown",
      "metadata": {
        "id": "SKZ6KgqxGC-P"
      },
      "source": [
        "## **Creating the model**"
      ]
    },
    {
      "cell_type": "markdown",
      "metadata": {
        "id": "XORltpjiKBy8"
      },
      "source": [
        "### Observation Table\n",
        "---\n",
        "Model 1:\n",
        "\n",
        "```\n",
        "```\n",
        "\n",
        "---\n",
        "| Model S.no | I (Lr, Epochs) | II (Lr, Epochs) | optimizer | val_acc | test_acc |\n",
        "| --- | --- | --- | --- | --- | --- |\n",
        "| 1 | (0.1, 20) | (0.01, 10) | SGD | 55.37 | 54.74 |\n",
        "| 1 | (0.2, 20) | (0.1, 10) | SGD | 49.40 | 48.86 |\n",
        "| 1 | (0.5, 20) | (0.1, 10) | SGD | 48.87 | 50.66 |\n",
        "| 1 | (0.1, 30) | (0.01, 10) | SGD | 55.66 | 55.31 |\n",
        "| 1 | (0.001, 20) | (0.0001, 10) | Adam | 53.04 | 53.34 |\n",
        "| 1 | (0.0001, 20) | (1e-5, 10) | Adam | 51.62 | 52.17 |\n",
        "\n",
        "---"
      ]
    },
    {
      "cell_type": "code",
      "metadata": {
        "id": "5hfrORQ_EgVU"
      },
      "source": [
        "torch.cuda.empty_cache()"
      ],
      "execution_count": null,
      "outputs": []
    }
  ]
}